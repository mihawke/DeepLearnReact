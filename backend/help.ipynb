{
 "cells": [
  {
   "cell_type": "code",
   "execution_count": null,
   "metadata": {},
   "outputs": [],
   "source": [
    "import pymongo\n",
    "import gridfs\n",
    "\n",
    "# connect to MongoDB server\n",
    "client = pymongo.MongoClient(\"mongodb://localhost:27017/\")\n",
    "# select database\n",
    "db = client[\"mydatabase\"]\n",
    "# create GridFS object for the database\n",
    "fs = gridfs.GridFS(db)\n",
    "\n",
    "# specify the path to the image file\n",
    "file_path = \"/home/cosmic/WorkSpace/DeepLearnReact/backend/assets/Sekiro.jpg\"\n",
    "\n",
    "# read the contents of the image file\n",
    "with open(file_path, 'rb') as f:\n",
    "    contents = f.read()\n",
    "\n",
    "# store the image file in the database via GridFS\n",
    "file_id = fs.put(contents, filename=\"Sekiro.jpg\")\n",
    "\n",
    "# save the file_id in a regular collection\n",
    "image_collection = db[\"images\"]\n",
    "image_collection.insert_one({\"file_id\": file_id})\n"
   ]
  },
  {
   "attachments": {},
   "cell_type": "markdown",
   "metadata": {},
   "source": [
    "<img src=\"/home/cosmic/WorkSpace/DeepLearnReact/backend/assets/help1.png\">"
   ]
  },
  {
   "cell_type": "code",
   "execution_count": null,
   "metadata": {},
   "outputs": [],
   "source": []
  }
 ],
 "metadata": {
  "kernelspec": {
   "display_name": "Python 3",
   "language": "python",
   "name": "python3"
  },
  "language_info": {
   "name": "python",
   "version": "3.10.6"
  },
  "orig_nbformat": 4
 },
 "nbformat": 4,
 "nbformat_minor": 2
}
