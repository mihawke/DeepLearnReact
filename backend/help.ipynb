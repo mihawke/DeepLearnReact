{
 "cells": [
  {
   "cell_type": "code",
   "execution_count": null,
   "metadata": {},
   "outputs": [],
   "source": [
    "import pymongo\n",
    "import gridfs\n",
    "\n",
    "# connect to MongoDB server\n",
    "client = pymongo.MongoClient(\"mongodb://localhost:27017/\")\n",
    "# select database\n",
    "db = client[\"mydatabase\"]\n",
    "# create GridFS object for the database\n",
    "fs = gridfs.GridFS(db)\n",
    "\n",
    "# specify the path to the image file\n",
    "file_path = \"/home/cosmic/WorkSpace/DeepLearnReact/backend/assets/Sekiro.jpg\"\n",
    "\n",
    "# read the contents of the image file\n",
    "with open(file_path, 'rb') as f:\n",
    "    contents = f.read()\n",
    "\n",
    "# store the image file in the database via GridFS\n",
    "file_id = fs.put(contents, filename=\"Sekiro.jpg\")\n",
    "\n",
    "# save the file_id in a regular collection\n",
    "image_collection = db[\"images\"]\n",
    "image_collection.insert_one({\"file_id\": file_id})\n"
   ]
  },
  {
   "attachments": {},
   "cell_type": "markdown",
   "metadata": {},
   "source": [
    "<img src=\"/home/cosmic/WorkSpace/DeepLearnReact/backend/assets/help1.png\">"
   ]
  },
  {
   "attachments": {},
   "cell_type": "markdown",
   "metadata": {},
   "source": [
    "<img src='/home/cosmic/WorkSpace/DeepLearnReact/backend/assets/help2.png'>"
   ]
  },
  {
   "attachments": {},
   "cell_type": "markdown",
   "metadata": {},
   "source": [
    "<ul><li><h4>Is there any way to keep everything in one file like model.something and upload it in database and call it using api and pass parameters to use it</h4></li></ul>"
   ]
  },
  {
   "attachments": {},
   "cell_type": "markdown",
   "metadata": {},
   "source": [
    "Yes, it is possible to package your trained deep learning model and all the required code into a single file, which can then be deployed to a database and used through an API. One common way to do this is to use a Python package such as Flask or Django to create a web application that can handle incoming requests and perform inference using your trained model.\n",
    "\n",
    "Here are the general steps you can follow to package your model and code into a single file and deploy it as a web application:\n",
    "<ul>\n",
    "<li>Serialize your trained model: Use a library such as 'pickle' or 'torch.save' to serialize your trained model and save it to a file, such as 'model.pkl' or 'model.pt'.</li>\n",
    "<li>\n",
    "Create a Python file that loads the serialized model and defines a function for performing inference. For example, you might have a file called inference.py that looks like this:</li>\n",
    "</ul>"
   ]
  },
  {
   "cell_type": "code",
   "execution_count": null,
   "metadata": {},
   "outputs": [],
   "source": [
    "import torch\n",
    "import pickle\n",
    "\n",
    "# Load the serialized model\n",
    "with open('model.pkl', 'rb') as f:\n",
    "    model = pickle.load(f)\n",
    "\n",
    "# Define a function for performing inference\n",
    "def predict(input_data):\n",
    "    # Preprocess the input data\n",
    "    processed_data = preprocess(input_data)\n",
    "\n",
    "    # Pass the preprocessed data through the model to obtain predictions\n",
    "    predictions = model(processed_data)\n",
    "\n",
    "    # Postprocess the predictions\n",
    "    output_data = postprocess(predictions)\n",
    "\n",
    "    return output_data\n"
   ]
  },
  {
   "attachments": {},
   "cell_type": "markdown",
   "metadata": {},
   "source": [
    "<ul>\n",
    "<li>Create a web application using a Python package such as Flask or Django. For example, if you are using Flask, you might have a file called app.py that looks like this:</li>\n",
    "</ul>"
   ]
  },
  {
   "cell_type": "code",
   "execution_count": null,
   "metadata": {},
   "outputs": [],
   "source": [
    "import cv2\n",
    "from flask import Flask, request, jsonify\n",
    "import torch\n",
    "\n",
    "# Load the model\n",
    "model = torch.load(\"path/to/model.pt\", map_location=torch.device(\"cpu\"))\n",
    "model.eval()\n",
    "\n",
    "# Define the Flask app\n",
    "app = Flask(__name__)\n",
    "\n",
    "# Define the API endpoint for the model\n",
    "@app.route(\"/predict\", methods=[\"POST\"])\n",
    "def predict():\n",
    "    # Load the image file sent by the user\n",
    "    file = request.files[\"image\"]\n",
    "    img = cv2.imdecode(np.frombuffer(file.read(), np.uint8), cv2.IMREAD_COLOR)\n",
    "    img = cv2.cvtColor(img, cv2.COLOR_BGR2RGB)\n",
    "\n",
    "    # Preprocess the input image\n",
    "    midas_transforms = torch.hub.load(\"intel-isl/MiDaS\", \"transforms\")\n",
    "    transform = midas_transforms.small_transform\n",
    "    input_batch = transform(img).unsqueeze(0)\n",
    "\n",
    "    # Perform inference using the loaded model\n",
    "    with torch.no_grad():\n",
    "        prediction = model(input_batch)\n",
    "\n",
    "    # Postprocess the model output\n",
    "    prediction = torch.nn.functional.interpolate(\n",
    "        prediction.unsqueeze(1),\n",
    "        size=img.shape[:2],\n",
    "        mode=\"bicubic\",\n",
    "        align_corners=False,\n",
    "    ).squeeze().cpu().numpy()\n",
    "\n",
    "    # Return the model output as a JSON response\n",
    "    response = {\"depth_map\": prediction.tolist()}\n",
    "    return jsonify(response)\n"
   ]
  },
  {
   "attachments": {},
   "cell_type": "markdown",
   "metadata": {},
   "source": [
    "This code creates a Flask web application with a single endpoint (/predict) that accepts JSON data as input and returns JSON data as output. The inference.predict function is called to perform inference on the input data and generate the output data."
   ]
  },
  {
   "attachments": {},
   "cell_type": "markdown",
   "metadata": {},
   "source": [
    "<li>Package everything into a single file using a tool such as PyInstaller or PyOxidizer. These tools allow you to create a standalone executable file that includes all the necessary dependencies, Python packages, and code. For example, if you are using PyInstaller, you might run the following command:</li>"
   ]
  },
  {
   "cell_type": "code",
   "execution_count": null,
   "metadata": {},
   "outputs": [],
   "source": [
    "pyinstaller app.py --add-data 'model.pkl:.'"
   ]
  },
  {
   "attachments": {},
   "cell_type": "markdown",
   "metadata": {},
   "source": [
    "<li>Deploy the executable file to your database or web server and start the web application using a command such as ./app. The web application should now be running and ready to accept requests.</li>"
   ]
  }
 ],
 "metadata": {
  "kernelspec": {
   "display_name": "Python 3",
   "language": "python",
   "name": "python3"
  },
  "language_info": {
   "name": "python",
   "version": "3.10.6"
  },
  "orig_nbformat": 4
 },
 "nbformat": 4,
 "nbformat_minor": 2
}
